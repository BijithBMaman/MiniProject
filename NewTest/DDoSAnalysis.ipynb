{
 "cells": [
  {
   "cell_type": "code",
   "execution_count": 1,
   "metadata": {},
   "outputs": [],
   "source": [
    "import pandas as pd"
   ]
  },
  {
   "cell_type": "code",
   "execution_count": 56,
   "metadata": {},
   "outputs": [],
   "source": [
    "df = pd.read_csv(r\"C:\\Users\\Public\\My Project\\Miniproject\\MiniProject\\NewTest\\newdata12.csv\")"
   ]
  },
  {
   "cell_type": "code",
   "execution_count": 55,
   "metadata": {},
   "outputs": [
    {
     "data": {
      "image/png": "[encoded data removed]",
      "text/plain": [
       "<Figure size 432x288 with 1 Axes>"
      ]
     },
     "metadata": {
      "needs_background": "light"
     },
     "output_type": "display_data"
    }
   ],
   "source": [
    "import matplotlib.pyplot as plt\n",
    "plt.scatter(df['Source'], df['Label'])\n",
    "plt.xlabel('Source')\n",
    "plt.ylabel('Label')\n",
    "plt.title('Scatter plot of labeled data')\n",
    "plt.show()"
   ]
  },
  {
   "cell_type": "code",
   "execution_count": 50,
   "metadata": {},
   "outputs": [
    {
     "data": {
      "text/html": [
       "<div>\n",
       "<style scoped>\n",
       "    .dataframe tbody tr th:only-of-type {\n",
       "        vertical-align: middle;\n",
       "    }\n",
       "\n",
       "    .dataframe tbody tr th {\n",
       "        vertical-align: top;\n",
       "    }\n",
       "\n",
       "    .dataframe thead th {\n",
       "        text-align: right;\n",
       "    }\n",
       "</style>\n",
       "<table border=\"1\" class=\"dataframe\">\n",
       "  <thead>\n",
       "    <tr style=\"text-align: right;\">\n",
       "      <th></th>\n",
       "      <th>Time</th>\n",
       "      <th>Source</th>\n",
       "      <th>Destination</th>\n",
       "      <th>Protocol</th>\n",
       "      <th>Length</th>\n",
       "      <th>Label</th>\n",
       "    </tr>\n",
       "  </thead>\n",
       "  <tbody>\n",
       "    <tr>\n",
       "      <th>0</th>\n",
       "      <td>0.000000</td>\n",
       "      <td>10.0.0.1</td>\n",
       "      <td>10.0.0.6</td>\n",
       "      <td>TCP</td>\n",
       "      <td>74</td>\n",
       "      <td>0</td>\n",
       "    </tr>\n",
       "    <tr>\n",
       "      <th>1</th>\n",
       "      <td>0.000121</td>\n",
       "      <td>10.0.0.1</td>\n",
       "      <td>10.0.0.6</td>\n",
       "      <td>TCP</td>\n",
       "      <td>66</td>\n",
       "      <td>0</td>\n",
       "    </tr>\n",
       "    <tr>\n",
       "      <th>2</th>\n",
       "      <td>0.002885</td>\n",
       "      <td>10.0.0.1</td>\n",
       "      <td>10.0.0.6</td>\n",
       "      <td>TCP</td>\n",
       "      <td>126</td>\n",
       "      <td>0</td>\n",
       "    </tr>\n",
       "    <tr>\n",
       "      <th>3</th>\n",
       "      <td>0.003433</td>\n",
       "      <td>10.0.0.1</td>\n",
       "      <td>10.0.0.6</td>\n",
       "      <td>TCP</td>\n",
       "      <td>66</td>\n",
       "      <td>0</td>\n",
       "    </tr>\n",
       "    <tr>\n",
       "      <th>4</th>\n",
       "      <td>0.003471</td>\n",
       "      <td>10.0.0.1</td>\n",
       "      <td>10.0.0.6</td>\n",
       "      <td>TCP</td>\n",
       "      <td>7306</td>\n",
       "      <td>0</td>\n",
       "    </tr>\n",
       "    <tr>\n",
       "      <th>...</th>\n",
       "      <td>...</td>\n",
       "      <td>...</td>\n",
       "      <td>...</td>\n",
       "      <td>...</td>\n",
       "      <td>...</td>\n",
       "      <td>...</td>\n",
       "    </tr>\n",
       "    <tr>\n",
       "      <th>8336</th>\n",
       "      <td>102.447571</td>\n",
       "      <td>10.0.0.9</td>\n",
       "      <td>10.0.0.6</td>\n",
       "      <td>TCP</td>\n",
       "      <td>669</td>\n",
       "      <td>1</td>\n",
       "    </tr>\n",
       "    <tr>\n",
       "      <th>8337</th>\n",
       "      <td>102.494067</td>\n",
       "      <td>10.0.0.10</td>\n",
       "      <td>10.0.0.6</td>\n",
       "      <td>IPv4</td>\n",
       "      <td>1514</td>\n",
       "      <td>1</td>\n",
       "    </tr>\n",
       "    <tr>\n",
       "      <th>8338</th>\n",
       "      <td>102.513016</td>\n",
       "      <td>10.0.0.10</td>\n",
       "      <td>10.0.0.6</td>\n",
       "      <td>IPv4</td>\n",
       "      <td>1514</td>\n",
       "      <td>1</td>\n",
       "    </tr>\n",
       "    <tr>\n",
       "      <th>8339</th>\n",
       "      <td>102.522601</td>\n",
       "      <td>10.0.0.10</td>\n",
       "      <td>10.0.0.6</td>\n",
       "      <td>IPv4</td>\n",
       "      <td>1514</td>\n",
       "      <td>1</td>\n",
       "    </tr>\n",
       "    <tr>\n",
       "      <th>8340</th>\n",
       "      <td>102.532706</td>\n",
       "      <td>10.0.0.10</td>\n",
       "      <td>10.0.0.6</td>\n",
       "      <td>IPv4</td>\n",
       "      <td>1514</td>\n",
       "      <td>1</td>\n",
       "    </tr>\n",
       "  </tbody>\n",
       "</table>\n",
       "<p>8341 rows × 6 columns</p>\n",
       "</div>"
      ],
      "text/plain": [
       "            Time     Source Destination Protocol  Length  Label\n",
       "0       0.000000   10.0.0.1    10.0.0.6      TCP      74      0\n",
       "1       0.000121   10.0.0.1    10.0.0.6      TCP      66      0\n",
       "2       0.002885   10.0.0.1    10.0.0.6      TCP     126      0\n",
       "3       0.003433   10.0.0.1    10.0.0.6      TCP      66      0\n",
       "4       0.003471   10.0.0.1    10.0.0.6      TCP    7306      0\n",
       "...          ...        ...         ...      ...     ...    ...\n",
       "8336  102.447571   10.0.0.9    10.0.0.6      TCP     669      1\n",
       "8337  102.494067  10.0.0.10    10.0.0.6     IPv4    1514      1\n",
       "8338  102.513016  10.0.0.10    10.0.0.6     IPv4    1514      1\n",
       "8339  102.522601  10.0.0.10    10.0.0.6     IPv4    1514      1\n",
       "8340  102.532706  10.0.0.10    10.0.0.6     IPv4    1514      1\n",
       "\n",
       "[8341 rows x 6 columns]"
      ]
     },
     "execution_count": 50,
     "metadata": {},
     "output_type": "execute_result"
    }
   ],
   "source": [
    "df"
   ]
  },
  {
   "cell_type": "code",
   "execution_count": 57,
   "metadata": {},
   "outputs": [],
   "source": [
    "df = df.drop_duplicates()\n",
    "df = df.dropna()\n",
    "df = df.drop(columns=[\"No.\", \"Info\"])"
   ]
  },
  {
   "cell_type": "code",
   "execution_count": 51,
   "metadata": {},
   "outputs": [],
   "source": [
    "df = df.drop(columns=[\"Time\", \"Source\",\"Destination\",\"Protocol\",\"Length\"])"
   ]
  },
  {
   "cell_type": "code",
   "execution_count": 52,
   "metadata": {},
   "outputs": [
    {
     "data": {
      "text/html": [
       "<div>\n",
       "<style scoped>\n",
       "    .dataframe tbody tr th:only-of-type {\n",
       "        vertical-align: middle;\n",
       "    }\n",
       "\n",
       "    .dataframe tbody tr th {\n",
       "        vertical-align: top;\n",
       "    }\n",
       "\n",
       "    .dataframe thead th {\n",
       "        text-align: right;\n",
       "    }\n",
       "</style>\n",
       "<table border=\"1\" class=\"dataframe\">\n",
       "  <thead>\n",
       "    <tr style=\"text-align: right;\">\n",
       "      <th></th>\n",
       "      <th>Label</th>\n",
       "    </tr>\n",
       "  </thead>\n",
       "  <tbody>\n",
       "    <tr>\n",
       "      <th>0</th>\n",
       "      <td>0</td>\n",
       "    </tr>\n",
       "    <tr>\n",
       "      <th>1</th>\n",
       "      <td>0</td>\n",
       "    </tr>\n",
       "    <tr>\n",
       "      <th>2</th>\n",
       "      <td>0</td>\n",
       "    </tr>\n",
       "    <tr>\n",
       "      <th>3</th>\n",
       "      <td>0</td>\n",
       "    </tr>\n",
       "    <tr>\n",
       "      <th>4</th>\n",
       "      <td>0</td>\n",
       "    </tr>\n",
       "    <tr>\n",
       "      <th>...</th>\n",
       "      <td>...</td>\n",
       "    </tr>\n",
       "    <tr>\n",
       "      <th>8336</th>\n",
       "      <td>1</td>\n",
       "    </tr>\n",
       "    <tr>\n",
       "      <th>8337</th>\n",
       "      <td>1</td>\n",
       "    </tr>\n",
       "    <tr>\n",
       "      <th>8338</th>\n",
       "      <td>1</td>\n",
       "    </tr>\n",
       "    <tr>\n",
       "      <th>8339</th>\n",
       "      <td>1</td>\n",
       "    </tr>\n",
       "    <tr>\n",
       "      <th>8340</th>\n",
       "      <td>1</td>\n",
       "    </tr>\n",
       "  </tbody>\n",
       "</table>\n",
       "<p>8341 rows × 1 columns</p>\n",
       "</div>"
      ],
      "text/plain": [
       "      Label\n",
       "0         0\n",
       "1         0\n",
       "2         0\n",
       "3         0\n",
       "4         0\n",
       "...     ...\n",
       "8336      1\n",
       "8337      1\n",
       "8338      1\n",
       "8339      1\n",
       "8340      1\n",
       "\n",
       "[8341 rows x 1 columns]"
      ]
     },
     "execution_count": 52,
     "metadata": {},
     "output_type": "execute_result"
    }
   ],
   "source": [
    "df"
   ]
  },
  {
   "cell_type": "code",
   "execution_count": 30,
   "metadata": {},
   "outputs": [],
   "source": [
    "df.to_csv(\"MixTrafficPreprocess.csv\", index=False)"
   ]
  },
  {
   "cell_type": "code",
   "execution_count": 35,
   "metadata": {},
   "outputs": [
    {
     "name": "stdout",
     "output_type": "stream",
     "text": [
      "['10.0.0.1' '10.0.0.2' '10.0.0.11' '10.0.0.12' '10.0.0.3' '10.0.0.7'\n",
      " '10.0.0.10' '10.0.0.8' '10.0.0.9' '10.0.0.4' '10.0.0.5']\n"
     ]
    }
   ],
   "source": [
    "unique_length = df['Source'].unique()\n",
    "print(unique_length)"
   ]
  },
  {
   "cell_type": "code",
   "execution_count": 32,
   "metadata": {},
   "outputs": [],
   "source": [
    "data1 = pd.read_csv('Genuine.csv')\n",
    "\n",
    "# Read the second CSV file into a pandas DataFrame\n",
    "data2 = pd.read_csv('traindata.csv')\n",
    "\n",
    "# Append data from the second CSV file to the first CSV file\n",
    "combined_data = pd.concat([data1, data2], ignore_index=True)\n",
    "\n",
    "# Save the combined data to a new CSV file\n",
    "combined_data.to_csv('traindata.csv', index=False)"
   ]
  },
  {
   "cell_type": "code",
   "execution_count": 17,
   "metadata": {},
   "outputs": [
    {
     "name": "stdout",
     "output_type": "stream",
     "text": [
      "3337\n"
     ]
    }
   ],
   "source": [
    "count1 = len(df[(df['Source']== '10.0.0.1')]) + len(df[(df['Source']== '10.0.0.2')]) + len(df[(df['Source']== '10.0.0.11')]) + len(df[(df['Source']== '10.0.0.12')])\n",
    "count2 = len(df)\n",
    "count1=count2-count1\n",
    "count = (count1/count2)*100\n",
    "print(count1)"
   ]
  },
  {
   "cell_type": "code",
   "execution_count": 18,
   "metadata": {},
   "outputs": [],
   "source": [
    "source_ips_to_keep = ['10.0.0.1','10.0.0.2','10.0.0.3', '10.0.0.4', '10.0.0.5','10.0.0.7','10.0.0.8','10.0.0.9','10.0.0.10','10.0.0.11','10.0.0.12']\n",
    "\n",
    "# Filter the DataFrame to keep only rows with the specified source IPs\n",
    "df = df[df['Source'].isin(source_ips_to_keep)]"
   ]
  },
  {
   "cell_type": "code",
   "execution_count": 19,
   "metadata": {},
   "outputs": [],
   "source": [
    "source_ips_to_keep = ['10.0.0.3', '10.0.0.4', '10.0.0.5','10.0.0.7','10.0.0.8','10.0.0.9','10.0.0.10']\n",
    "\n",
    "# Filter the DataFrame to keep only rows with the specified source IPs\n",
    "df = df[df['Source'].isin(source_ips_to_keep)]"
   ]
  },
  {
   "cell_type": "code",
   "execution_count": 20,
   "metadata": {},
   "outputs": [
    {
     "data": {
      "text/html": [
       "<div>\n",
       "<style scoped>\n",
       "    .dataframe tbody tr th:only-of-type {\n",
       "        vertical-align: middle;\n",
       "    }\n",
       "\n",
       "    .dataframe tbody tr th {\n",
       "        vertical-align: top;\n",
       "    }\n",
       "\n",
       "    .dataframe thead th {\n",
       "        text-align: right;\n",
       "    }\n",
       "</style>\n",
       "<table border=\"1\" class=\"dataframe\">\n",
       "  <thead>\n",
       "    <tr style=\"text-align: right;\">\n",
       "      <th></th>\n",
       "      <th>Time</th>\n",
       "      <th>Source</th>\n",
       "      <th>Destination</th>\n",
       "      <th>Protocol</th>\n",
       "      <th>Length</th>\n",
       "    </tr>\n",
       "  </thead>\n",
       "  <tbody>\n",
       "    <tr>\n",
       "      <th>15012</th>\n",
       "      <td>92.621201</td>\n",
       "      <td>10.0.0.3</td>\n",
       "      <td>10.0.0.6</td>\n",
       "      <td>TCP</td>\n",
       "      <td>969</td>\n",
       "    </tr>\n",
       "    <tr>\n",
       "      <th>15013</th>\n",
       "      <td>82.218662</td>\n",
       "      <td>10.0.0.5</td>\n",
       "      <td>10.0.0.6</td>\n",
       "      <td>TCP</td>\n",
       "      <td>777</td>\n",
       "    </tr>\n",
       "    <tr>\n",
       "      <th>15014</th>\n",
       "      <td>95.534859</td>\n",
       "      <td>10.0.0.5</td>\n",
       "      <td>10.0.0.6</td>\n",
       "      <td>TCP</td>\n",
       "      <td>777</td>\n",
       "    </tr>\n",
       "    <tr>\n",
       "      <th>15015</th>\n",
       "      <td>96.593615</td>\n",
       "      <td>10.0.0.10</td>\n",
       "      <td>10.0.0.6</td>\n",
       "      <td>IPv4</td>\n",
       "      <td>1514</td>\n",
       "    </tr>\n",
       "    <tr>\n",
       "      <th>15016</th>\n",
       "      <td>49.941120</td>\n",
       "      <td>10.0.0.7</td>\n",
       "      <td>10.0.0.6</td>\n",
       "      <td>TCP</td>\n",
       "      <td>1037</td>\n",
       "    </tr>\n",
       "    <tr>\n",
       "      <th>...</th>\n",
       "      <td>...</td>\n",
       "      <td>...</td>\n",
       "      <td>...</td>\n",
       "      <td>...</td>\n",
       "      <td>...</td>\n",
       "    </tr>\n",
       "    <tr>\n",
       "      <th>18344</th>\n",
       "      <td>38.012463</td>\n",
       "      <td>10.0.0.4</td>\n",
       "      <td>10.0.0.6</td>\n",
       "      <td>TCP</td>\n",
       "      <td>874</td>\n",
       "    </tr>\n",
       "    <tr>\n",
       "      <th>18345</th>\n",
       "      <td>44.864881</td>\n",
       "      <td>10.0.0.10</td>\n",
       "      <td>10.0.0.6</td>\n",
       "      <td>IPv4</td>\n",
       "      <td>1514</td>\n",
       "    </tr>\n",
       "    <tr>\n",
       "      <th>18346</th>\n",
       "      <td>72.504527</td>\n",
       "      <td>10.0.0.10</td>\n",
       "      <td>10.0.0.6</td>\n",
       "      <td>IPv4</td>\n",
       "      <td>1514</td>\n",
       "    </tr>\n",
       "    <tr>\n",
       "      <th>18347</th>\n",
       "      <td>87.425361</td>\n",
       "      <td>10.0.0.5</td>\n",
       "      <td>10.0.0.6</td>\n",
       "      <td>TCP</td>\n",
       "      <td>777</td>\n",
       "    </tr>\n",
       "    <tr>\n",
       "      <th>18348</th>\n",
       "      <td>41.147165</td>\n",
       "      <td>10.0.0.10</td>\n",
       "      <td>10.0.0.6</td>\n",
       "      <td>IPv4</td>\n",
       "      <td>1514</td>\n",
       "    </tr>\n",
       "  </tbody>\n",
       "</table>\n",
       "<p>3337 rows × 5 columns</p>\n",
       "</div>"
      ],
      "text/plain": [
       "            Time     Source Destination Protocol  Length\n",
       "15012  92.621201   10.0.0.3    10.0.0.6      TCP     969\n",
       "15013  82.218662   10.0.0.5    10.0.0.6      TCP     777\n",
       "15014  95.534859   10.0.0.5    10.0.0.6      TCP     777\n",
       "15015  96.593615  10.0.0.10    10.0.0.6     IPv4    1514\n",
       "15016  49.941120   10.0.0.7    10.0.0.6      TCP    1037\n",
       "...          ...        ...         ...      ...     ...\n",
       "18344  38.012463   10.0.0.4    10.0.0.6      TCP     874\n",
       "18345  44.864881  10.0.0.10    10.0.0.6     IPv4    1514\n",
       "18346  72.504527  10.0.0.10    10.0.0.6     IPv4    1514\n",
       "18347  87.425361   10.0.0.5    10.0.0.6      TCP     777\n",
       "18348  41.147165  10.0.0.10    10.0.0.6     IPv4    1514\n",
       "\n",
       "[3337 rows x 5 columns]"
      ]
     },
     "execution_count": 20,
     "metadata": {},
     "output_type": "execute_result"
    }
   ],
   "source": [
    "df"
   ]
  },
  {
   "cell_type": "code",
   "execution_count": 21,
   "metadata": {},
   "outputs": [
    {
     "name": "stdout",
     "output_type": "stream",
     "text": [
      "3337\n"
     ]
    }
   ],
   "source": [
    "count= len(df)\n",
    "print(count)"
   ]
  },
  {
   "cell_type": "code",
   "execution_count": 53,
   "metadata": {},
   "outputs": [],
   "source": [
    "df.to_csv(\"Label.csv\", index=False)"
   ]
  },
  {
   "cell_type": "code",
   "execution_count": 23,
   "metadata": {},
   "outputs": [],
   "source": [
    "import pandas as pd\n",
    "\n",
    "# Read the CSV file into a pandas DataFrame\n",
    "data = pd.read_csv('Attack.csv')\n",
    "\n",
    "# Select random rows from the DataFrame\n",
    "random_data = data.sample(n=3337)  # Change the value of 'n' to the desired number of random rows\n",
    "\n",
    "# Save the selected random data to a new file\n",
    "random_data.to_csv('traindata.csv', index=False)"
   ]
  },
  {
   "cell_type": "code",
   "execution_count": null,
   "metadata": {},
   "outputs": [],
   "source": [
    "import numpy as np\n",
    "from sklearn.cluster import KMeans\n",
    "\n",
    "# Step 1: Preprocess the data\n",
    "# Assume you have converted the IP addresses to numerical representations\n",
    "\n",
    "# Step 2: Extract features\n",
    "data = np.array([\n",
    "    [10, 2, 1, 74],\n",
    "    [10, 2, 1, 66],\n",
    "    # ... include other data points from your dataset\n",
    "])\n",
    "\n",
    "# Step 4: Assign labels\n",
    "labels = np.array([0, 0, 1, 0, 1, 1, 1, 1, 1, 1, 1, 1, 1, 1, 1, 1, 1, 1, 1, 1, 1, 1, 1, 1, 1, 1, 1, 1, 1, 1, 1, 1, 1, 1, 1, 1, 1, 1, 1, 1, 1, 1, 1, 1, 1, 1])\n",
    "\n",
    "# Step 5: Train the K-means model\n",
    "k = 2  # Number of clusters\n",
    "model = KMeans(n_clusters=k, random_state=42)\n",
    "model.fit(data)\n",
    "\n",
    "# Step 6: Get cluster labels for the data points\n",
    "cluster_labels = model.labels_"
   ]
  },
  {
   "cell_type": "code",
   "execution_count": 36,
   "metadata": {},
   "outputs": [],
   "source": [
    "import pandas as pd\n",
    "\n",
    "# Read the CSV file into a DataFrame\n",
    "df = pd.read_csv('traindata.csv')\n",
    "\n",
    "# Add a new column with just the column name\n",
    "column_name = 'Label'\n",
    "df[column_name] = None\n",
    "\n",
    "# Write the modified DataFrame back to a CSV file\n",
    "df.to_csv('traindataWithLabel.csv', index=False)"
   ]
  },
  {
   "cell_type": "code",
   "execution_count": 43,
   "metadata": {},
   "outputs": [],
   "source": [
    "import pandas as pd\n",
    "import numpy as np\n",
    "\n",
    "# Read the CSV file into a DataFrame\n",
    "df = pd.read_csv('traindataWithLabel.csv')\n",
    "\n",
    "# Replace non-finite values in the Label column with a default value\n",
    "df['Label'] = df['Label'].replace([np.inf, -np.inf, np.nan], -1)\n",
    "\n",
    "# Define the conditions for labeling\n",
    "condition_0 = df['Source'].isin(['10.0.0.1', '10.0.0.2', '10.0.0.11', '10.0.0.12'])\n",
    "condition_1 = df['Source'].isin(['10.0.0.3', '10.0.0.4', '10.0.0.5', '10.0.0.6', '10.0.0.7', '10.0.0.8', '10.0.0.9', '10.0.0.10'])\n",
    "\n",
    "# Mark the labels based on the conditions\n",
    "df['Label'] = np.where(condition_0, 0, np.where(condition_1, 1, df['Label'].astype(int)))\n",
    "\n",
    "\n",
    "\n",
    "\n",
    "# Write the modified DataFrame back to a CSV file\n",
    "df.to_csv('traindataWithLabel.csv', index=False)"
   ]
  },
  {
   "cell_type": "code",
   "execution_count": 45,
   "metadata": {},
   "outputs": [],
   "source": [
    "import pandas as pd\n",
    "\n",
    "# Read the CSV file into a DataFrame\n",
    "df = pd.read_csv('traindata.csv')\n",
    "\n",
    "# Sort the DataFrame by the \"Time\" column\n",
    "df = df.sort_values(by='Time')\n",
    "\n",
    "# Write the sorted DataFrame back to a CSV file\n",
    "df.to_csv('traindata.csv', index=False)"
   ]
  }
 ],
 "metadata": {
  "kernelspec": {
   "display_name": "Python 3",
   "language": "python",
   "name": "python3"
  },
  "language_info": {
   "codemirror_mode": {
    "name": "ipython",
    "version": 3
   },
   "file_extension": ".py",
   "mimetype": "text/x-python",
   "name": "python",
   "nbconvert_exporter": "python",
   "pygments_lexer": "ipython3",
   "version": "3.9.13"
  },
  "orig_nbformat": 4
 },
 "nbformat": 4,
 "nbformat_minor": 2
}
