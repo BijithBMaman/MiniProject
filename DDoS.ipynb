{
 "cells": [
  {
   "cell_type": "code",
   "execution_count": 1,
   "metadata": {},
   "outputs": [],
   "source": [
    "import numpy as np\n",
    "import pandas as pd\n"
   ]
  },
  {
   "cell_type": "code",
   "execution_count": 2,
   "metadata": {},
   "outputs": [],
   "source": [
    "data  = pd.read_csv(r'C:\\Users\\Public\\My Project\\Miniproject\\Miniproject\\labeled_data2.csv')"
   ]
  },
  {
   "cell_type": "code",
   "execution_count": 3,
   "metadata": {},
   "outputs": [
    {
     "name": "stdout",
     "output_type": "stream",
     "text": [
      "[1514 1057  574   74  954  126 2962   66 1682 2770]\n"
     ]
    }
   ],
   "source": [
    "unique_length = data['Length'].unique()\n",
    "print(unique_length)"
   ]
  },
  {
   "cell_type": "code",
   "execution_count": 17,
   "metadata": {},
   "outputs": [
    {
     "name": "stdout",
     "output_type": "stream",
     "text": [
      "265\n"
     ]
    }
   ],
   "source": [
    "count = len(data[(data['Source']== '10.0.0.1') & (data['Label']== 0)])\n",
    "print(count)"
   ]
  },
  {
   "cell_type": "code",
   "execution_count": 4,
   "metadata": {},
   "outputs": [
    {
     "data": {
      "text/html": [
       "<div>\n",
       "<style scoped>\n",
       "    .dataframe tbody tr th:only-of-type {\n",
       "        vertical-align: middle;\n",
       "    }\n",
       "\n",
       "    .dataframe tbody tr th {\n",
       "        vertical-align: top;\n",
       "    }\n",
       "\n",
       "    .dataframe thead th {\n",
       "        text-align: right;\n",
       "    }\n",
       "</style>\n",
       "<table border=\"1\" class=\"dataframe\">\n",
       "  <thead>\n",
       "    <tr style=\"text-align: right;\">\n",
       "      <th></th>\n",
       "      <th>Time</th>\n",
       "      <th>Source</th>\n",
       "      <th>Destination</th>\n",
       "      <th>Protocol</th>\n",
       "      <th>Length</th>\n",
       "    </tr>\n",
       "  </thead>\n",
       "  <tbody>\n",
       "    <tr>\n",
       "      <th>0</th>\n",
       "      <td>153.135246</td>\n",
       "      <td>10.0.0.2</td>\n",
       "      <td>10.0.0.6</td>\n",
       "      <td>TCP</td>\n",
       "      <td>574</td>\n",
       "    </tr>\n",
       "    <tr>\n",
       "      <th>1</th>\n",
       "      <td>153.135276</td>\n",
       "      <td>10.0.0.6</td>\n",
       "      <td>10.0.0.2</td>\n",
       "      <td>TCP</td>\n",
       "      <td>54</td>\n",
       "    </tr>\n",
       "    <tr>\n",
       "      <th>2</th>\n",
       "      <td>153.141085</td>\n",
       "      <td>10.0.0.2</td>\n",
       "      <td>10.0.0.6</td>\n",
       "      <td>TCP</td>\n",
       "      <td>574</td>\n",
       "    </tr>\n",
       "    <tr>\n",
       "      <th>3</th>\n",
       "      <td>153.141136</td>\n",
       "      <td>10.0.0.6</td>\n",
       "      <td>10.0.0.2</td>\n",
       "      <td>TCP</td>\n",
       "      <td>54</td>\n",
       "    </tr>\n",
       "    <tr>\n",
       "      <th>4</th>\n",
       "      <td>153.141869</td>\n",
       "      <td>10.0.0.2</td>\n",
       "      <td>10.0.0.6</td>\n",
       "      <td>TCP</td>\n",
       "      <td>574</td>\n",
       "    </tr>\n",
       "    <tr>\n",
       "      <th>...</th>\n",
       "      <td>...</td>\n",
       "      <td>...</td>\n",
       "      <td>...</td>\n",
       "      <td>...</td>\n",
       "      <td>...</td>\n",
       "    </tr>\n",
       "    <tr>\n",
       "      <th>22322</th>\n",
       "      <td>391.779290</td>\n",
       "      <td>10.0.0.1</td>\n",
       "      <td>10.0.0.6</td>\n",
       "      <td>TCP</td>\n",
       "      <td>574</td>\n",
       "    </tr>\n",
       "    <tr>\n",
       "      <th>22323</th>\n",
       "      <td>391.791078</td>\n",
       "      <td>10.0.0.3</td>\n",
       "      <td>10.0.0.6</td>\n",
       "      <td>TCP</td>\n",
       "      <td>574</td>\n",
       "    </tr>\n",
       "    <tr>\n",
       "      <th>22324</th>\n",
       "      <td>391.791080</td>\n",
       "      <td>10.0.0.4</td>\n",
       "      <td>10.0.0.6</td>\n",
       "      <td>TCP</td>\n",
       "      <td>574</td>\n",
       "    </tr>\n",
       "    <tr>\n",
       "      <th>22325</th>\n",
       "      <td>391.791107</td>\n",
       "      <td>10.0.0.6</td>\n",
       "      <td>10.0.0.3</td>\n",
       "      <td>TCP</td>\n",
       "      <td>54</td>\n",
       "    </tr>\n",
       "    <tr>\n",
       "      <th>22326</th>\n",
       "      <td>391.791111</td>\n",
       "      <td>10.0.0.6</td>\n",
       "      <td>10.0.0.4</td>\n",
       "      <td>TCP</td>\n",
       "      <td>54</td>\n",
       "    </tr>\n",
       "  </tbody>\n",
       "</table>\n",
       "<p>22327 rows × 5 columns</p>\n",
       "</div>"
      ],
      "text/plain": [
       "             Time    Source Destination Protocol  Length\n",
       "0      153.135246  10.0.0.2    10.0.0.6      TCP     574\n",
       "1      153.135276  10.0.0.6    10.0.0.2      TCP      54\n",
       "2      153.141085  10.0.0.2    10.0.0.6      TCP     574\n",
       "3      153.141136  10.0.0.6    10.0.0.2      TCP      54\n",
       "4      153.141869  10.0.0.2    10.0.0.6      TCP     574\n",
       "...           ...       ...         ...      ...     ...\n",
       "22322  391.779290  10.0.0.1    10.0.0.6      TCP     574\n",
       "22323  391.791078  10.0.0.3    10.0.0.6      TCP     574\n",
       "22324  391.791080  10.0.0.4    10.0.0.6      TCP     574\n",
       "22325  391.791107  10.0.0.6    10.0.0.3      TCP      54\n",
       "22326  391.791111  10.0.0.6    10.0.0.4      TCP      54\n",
       "\n",
       "[22327 rows x 5 columns]"
      ]
     },
     "execution_count": 4,
     "metadata": {},
     "output_type": "execute_result"
    }
   ],
   "source": [
    "data"
   ]
  },
  {
   "cell_type": "code",
   "execution_count": 5,
   "metadata": {},
   "outputs": [
    {
     "data": {
      "text/plain": [
       "Index(['Time', 'Source', 'Destination', 'Protocol', 'Length'], dtype='object')"
      ]
     },
     "execution_count": 5,
     "metadata": {},
     "output_type": "execute_result"
    }
   ],
   "source": [
    "data.columns"
   ]
  },
  {
   "cell_type": "code",
   "execution_count": 7,
   "metadata": {},
   "outputs": [
    {
     "data": {
      "text/plain": [
       "Time           22327\n",
       "Source         22327\n",
       "Destination    22327\n",
       "Protocol       22327\n",
       "Length         22327\n",
       "dtype: int64"
      ]
     },
     "execution_count": 7,
     "metadata": {},
     "output_type": "execute_result"
    }
   ],
   "source": [
    "data.notnull().sum()"
   ]
  },
  {
   "cell_type": "code",
   "execution_count": 8,
   "metadata": {},
   "outputs": [
    {
     "data": {
      "text/html": [
       "<div>\n",
       "<style scoped>\n",
       "    .dataframe tbody tr th:only-of-type {\n",
       "        vertical-align: middle;\n",
       "    }\n",
       "\n",
       "    .dataframe tbody tr th {\n",
       "        vertical-align: top;\n",
       "    }\n",
       "\n",
       "    .dataframe thead th {\n",
       "        text-align: right;\n",
       "    }\n",
       "</style>\n",
       "<table border=\"1\" class=\"dataframe\">\n",
       "  <thead>\n",
       "    <tr style=\"text-align: right;\">\n",
       "      <th></th>\n",
       "      <th>Time</th>\n",
       "      <th>Source</th>\n",
       "      <th>Destination</th>\n",
       "      <th>Protocol</th>\n",
       "      <th>Length</th>\n",
       "    </tr>\n",
       "  </thead>\n",
       "  <tbody>\n",
       "    <tr>\n",
       "      <th>0</th>\n",
       "      <td>153.135246</td>\n",
       "      <td>10.0.0.2</td>\n",
       "      <td>10.0.0.6</td>\n",
       "      <td>TCP</td>\n",
       "      <td>574</td>\n",
       "    </tr>\n",
       "    <tr>\n",
       "      <th>1</th>\n",
       "      <td>153.135276</td>\n",
       "      <td>10.0.0.6</td>\n",
       "      <td>10.0.0.2</td>\n",
       "      <td>TCP</td>\n",
       "      <td>54</td>\n",
       "    </tr>\n",
       "    <tr>\n",
       "      <th>2</th>\n",
       "      <td>153.141085</td>\n",
       "      <td>10.0.0.2</td>\n",
       "      <td>10.0.0.6</td>\n",
       "      <td>TCP</td>\n",
       "      <td>574</td>\n",
       "    </tr>\n",
       "    <tr>\n",
       "      <th>3</th>\n",
       "      <td>153.141136</td>\n",
       "      <td>10.0.0.6</td>\n",
       "      <td>10.0.0.2</td>\n",
       "      <td>TCP</td>\n",
       "      <td>54</td>\n",
       "    </tr>\n",
       "    <tr>\n",
       "      <th>4</th>\n",
       "      <td>153.141869</td>\n",
       "      <td>10.0.0.2</td>\n",
       "      <td>10.0.0.6</td>\n",
       "      <td>TCP</td>\n",
       "      <td>574</td>\n",
       "    </tr>\n",
       "    <tr>\n",
       "      <th>...</th>\n",
       "      <td>...</td>\n",
       "      <td>...</td>\n",
       "      <td>...</td>\n",
       "      <td>...</td>\n",
       "      <td>...</td>\n",
       "    </tr>\n",
       "    <tr>\n",
       "      <th>22322</th>\n",
       "      <td>391.779290</td>\n",
       "      <td>10.0.0.1</td>\n",
       "      <td>10.0.0.6</td>\n",
       "      <td>TCP</td>\n",
       "      <td>574</td>\n",
       "    </tr>\n",
       "    <tr>\n",
       "      <th>22323</th>\n",
       "      <td>391.791078</td>\n",
       "      <td>10.0.0.3</td>\n",
       "      <td>10.0.0.6</td>\n",
       "      <td>TCP</td>\n",
       "      <td>574</td>\n",
       "    </tr>\n",
       "    <tr>\n",
       "      <th>22324</th>\n",
       "      <td>391.791080</td>\n",
       "      <td>10.0.0.4</td>\n",
       "      <td>10.0.0.6</td>\n",
       "      <td>TCP</td>\n",
       "      <td>574</td>\n",
       "    </tr>\n",
       "    <tr>\n",
       "      <th>22325</th>\n",
       "      <td>391.791107</td>\n",
       "      <td>10.0.0.6</td>\n",
       "      <td>10.0.0.3</td>\n",
       "      <td>TCP</td>\n",
       "      <td>54</td>\n",
       "    </tr>\n",
       "    <tr>\n",
       "      <th>22326</th>\n",
       "      <td>391.791111</td>\n",
       "      <td>10.0.0.6</td>\n",
       "      <td>10.0.0.4</td>\n",
       "      <td>TCP</td>\n",
       "      <td>54</td>\n",
       "    </tr>\n",
       "  </tbody>\n",
       "</table>\n",
       "<p>22327 rows × 5 columns</p>\n",
       "</div>"
      ],
      "text/plain": [
       "             Time    Source Destination Protocol  Length\n",
       "0      153.135246  10.0.0.2    10.0.0.6      TCP     574\n",
       "1      153.135276  10.0.0.6    10.0.0.2      TCP      54\n",
       "2      153.141085  10.0.0.2    10.0.0.6      TCP     574\n",
       "3      153.141136  10.0.0.6    10.0.0.2      TCP      54\n",
       "4      153.141869  10.0.0.2    10.0.0.6      TCP     574\n",
       "...           ...       ...         ...      ...     ...\n",
       "22322  391.779290  10.0.0.1    10.0.0.6      TCP     574\n",
       "22323  391.791078  10.0.0.3    10.0.0.6      TCP     574\n",
       "22324  391.791080  10.0.0.4    10.0.0.6      TCP     574\n",
       "22325  391.791107  10.0.0.6    10.0.0.3      TCP      54\n",
       "22326  391.791111  10.0.0.6    10.0.0.4      TCP      54\n",
       "\n",
       "[22327 rows x 5 columns]"
      ]
     },
     "execution_count": 8,
     "metadata": {},
     "output_type": "execute_result"
    }
   ],
   "source": [
    "data"
   ]
  },
  {
   "cell_type": "code",
   "execution_count": 6,
   "metadata": {},
   "outputs": [],
   "source": [
    "import pandas as pd\n",
    "from sklearn.cluster import KMeans\n",
    "from sklearn.preprocessing import OneHotEncoder, StandardScaler\n",
    "from sklearn.compose import ColumnTransformer\n",
    "import matplotlib.pyplot as plt\n",
    "import seaborn as sns"
   ]
  },
  {
   "cell_type": "code",
   "execution_count": 2,
   "metadata": {},
   "outputs": [],
   "source": [
    "data = pd.read_csv(r'C:\\Users\\Public\\My Project\\Miniproject\\MiniProject\\filteredMixTrafficdata.csv')"
   ]
  },
  {
   "cell_type": "code",
   "execution_count": 3,
   "metadata": {},
   "outputs": [],
   "source": [
    "data = data.drop(columns=[\"Length\"])\n",
    "data.to_csv(\"test.csv\", index=False)"
   ]
  },
  {
   "cell_type": "code",
   "execution_count": 5,
   "metadata": {},
   "outputs": [
    {
     "name": "stdout",
     "output_type": "stream",
     "text": [
      "[1 1 1 ... 0 0 0]\n"
     ]
    }
   ],
   "source": [
    "# Define the categorical and numerical columns\n",
    "cat_cols = ['Source', 'Destination', 'Protocol']\n",
    "num_cols = ['Time']\n",
    "\n",
    "# Define the column transformer\n",
    "ct = ColumnTransformer([\n",
    "    ('encoder', OneHotEncoder(sparse=False), cat_cols),\n",
    "    ('scaler', StandardScaler(), num_cols)\n",
    "])\n",
    "\n",
    "# Transform the data\n",
    "X = ct.fit_transform(data)\n",
    "\n",
    "# Define the k-means clustering algorithm\n",
    "kmeans = KMeans(n_clusters=2, random_state=42)\n",
    "\n",
    "\n",
    "# Fit the k-means clustering algorithm to the data\n",
    "kmeans.fit(X)\n",
    "\n",
    "# Print the cluster labels for each data point\n",
    "print(kmeans.labels_)\n",
    "\n",
    "labels= kmeans.labels_\n",
    "data['Label'] = labels\n",
    "\n",
    "# Save the DataFrame with the labels to a new CSV file\n",
    "data.to_csv('labeled_test.csv', index=False)\n"
   ]
  },
  {
   "cell_type": "code",
   "execution_count": 7,
   "metadata": {},
   "outputs": [
    {
     "data": {
      "image/png": "[encoded data removed]",
      "text/plain": [
       "<Figure size 432x288 with 1 Axes>"
      ]
     },
     "metadata": {
      "needs_background": "light"
     },
     "output_type": "display_data"
    }
   ],
   "source": [
    "import matplotlib.pyplot as plt\n",
    "plt.scatter(data['Source'], data['Label'])\n",
    "plt.xlabel('Source')\n",
    "plt.ylabel('Label')\n",
    "plt.title('Scatter plot of labeled data')\n",
    "plt.show()"
   ]
  },
  {
   "cell_type": "code",
   "execution_count": 3,
   "metadata": {},
   "outputs": [
    {
     "name": "stdout",
     "output_type": "stream",
     "text": [
      "[0 0 0 ... 1 1 1]\n"
     ]
    },
    {
     "data": {
      "image/png": "[encoded data removed]",
      "text/plain": [
       "<Figure size 432x288 with 1 Axes>"
      ]
     },
     "metadata": {
      "needs_background": "light"
     },
     "output_type": "display_data"
    },
    {
     "data": {
      "image/png": "[encoded data removed]",
      "text/plain": [
       "<Figure size 432x288 with 1 Axes>"
      ]
     },
     "metadata": {
      "needs_background": "light"
     },
     "output_type": "display_data"
    },
    {
     "name": "stderr",
     "output_type": "stream",
     "text": [
      "C:\\Users\\DELL\\AppData\\Local\\Packages\\PythonSoftwareFoundation.Python.3.9_qbz5n2kfra8p0\\LocalCache\\local-packages\\Python39\\site-packages\\sklearn\\utils\\deprecation.py:87: FutureWarning: Function get_feature_names is deprecated; get_feature_names is deprecated in 1.0 and will be removed in 1.2. Please use get_feature_names_out instead.\n",
      "  warnings.warn(msg, category=FutureWarning)\n"
     ]
    }
   ],
   "source": [
    "import pandas as pd\n",
    "from sklearn.cluster import KMeans\n",
    "from sklearn.preprocessing import OneHotEncoder, StandardScaler\n",
    "from sklearn.compose import ColumnTransformer\n",
    "import matplotlib.pyplot as plt\n",
    "import seaborn as sns\n",
    "\n",
    "# Load the data into a pandas DataFrame\n",
    "data = pd.read_csv('MixTrafficPreprocess.csv')\n",
    "\n",
    "# Define the categorical and numerical columns\n",
    "cat_cols = ['Source', 'Destination', 'Protocol']\n",
    "num_cols = ['Length','Time']\n",
    "\n",
    "# Define the column transformer\n",
    "ct = ColumnTransformer([\n",
    "    ('encoder', OneHotEncoder(sparse=False), cat_cols),\n",
    "    ('scaler', StandardScaler(), num_cols)\n",
    "])\n",
    "\n",
    "# Transform the data\n",
    "X = ct.fit_transform(data)\n",
    "\n",
    "# Define the k-means clustering algorithm\n",
    "kmeans = KMeans(n_clusters=2, random_state=42)\n",
    "\n",
    "\n",
    "# Fit the k-means clustering algorithm to the data\n",
    "kmeans.fit(X)\n",
    "\n",
    "# Print the cluster labels for each data point\n",
    "print(kmeans.labels_)\n",
    "\n",
    "labels= kmeans.labels_\n",
    "data['Label'] = labels\n",
    "\n",
    "# Save the DataFrame with the labels to a new CSV file\n",
    "data.to_csv('labeled_data2.csv', index=False)\n",
    "\n",
    "# Plot scatter plot\n",
    "plt.scatter(data['Source'], data['Label'])\n",
    "plt.xlabel('Source')\n",
    "plt.ylabel('Label')\n",
    "plt.title('Scatter plot of labeled data')\n",
    "plt.show()\n",
    "\n",
    "# Plot graph\n",
    "grouped = data.groupby(['Source']).size().reset_index(name='Counts')\n",
    "plt.bar(grouped['Source'], grouped['Counts'])\n",
    "plt.xlabel('Source')\n",
    "plt.ylabel('Counts')\n",
    "plt.title('Graph of labeled data')\n",
    "plt.show()\n",
    "\n",
    "\n",
    "# Get the cluster centroids\n",
    "centroids = kmeans.cluster_centers_\n",
    "\n",
    "# Create a DataFrame of the cluster centroids with the correct column names\n",
    "cat_col_names = ct.named_transformers_['encoder'].get_feature_names(cat_cols)\n",
    "col_names = list(cat_col_names) + num_cols\n",
    "centroid_df = pd.DataFrame(centroids, columns=col_names)\n",
    "\n",
    "# # Plot a heatmap of the cluster centroids\n",
    "# sns.heatmap(centroid_df, cmap=\"YlGnBu\")\n",
    "# plt.title('Heatmap of Cluster Centroids')\n",
    "# plt.show()"
   ]
  },
  {
   "cell_type": "code",
   "execution_count": 28,
   "metadata": {},
   "outputs": [
    {
     "name": "stdout",
     "output_type": "stream",
     "text": [
      "Silhouette Score:  0.5771813957730122\n",
      "Inertia:  154133.57961084755\n"
     ]
    }
   ],
   "source": [
    "from sklearn.metrics import silhouette_score\n",
    "\n",
    "# Calculate silhouette score\n",
    "silhouette_score = silhouette_score(X, kmeans.labels_)\n",
    "print(\"Silhouette Score: \", silhouette_score)\n",
    "\n",
    "# Get the inertia value\n",
    "inertia = kmeans.inertia_\n",
    "print(\"Inertia: \", inertia)"
   ]
  },
  {
   "cell_type": "code",
   "execution_count": 14,
   "metadata": {},
   "outputs": [
    {
     "name": "stdout",
     "output_type": "stream",
     "text": [
      "Count of occurrences for source IP '10.0.0.1': 287\n",
      "Count of occurrences for source IP '10.0.0.2': 936\n"
     ]
    }
   ],
   "source": [
    "import pandas as pd\n",
    "\n",
    "# Load the data into a pandas DataFrame\n",
    "data = pd.read_csv('MixTrafficPreprocess.csv')\n",
    "\n",
    "# List of specific source IP addresses\n",
    "specific_source_ips = ['10.0.0.1', '10.0.0.2']  # Replace with your specific source IP addresses\n",
    "\n",
    "# Filter the data to get the count of occurrences for the specific source IP addresses\n",
    "filtered_data = data[data['Source'].isin(specific_source_ips)]\n",
    "grouped = filtered_data.groupby('Source').size().reset_index(name='Counts')\n",
    "\n",
    "# Print the count for each specific source IP address\n",
    "for index, row in grouped.iterrows():\n",
    "    source_ip = row['Source']\n",
    "    count = row['Counts']\n",
    "    print(f\"Count of occurrences for source IP '{source_ip}': {count}\")\n"
   ]
  },
  {
   "cell_type": "code",
   "execution_count": 15,
   "metadata": {},
   "outputs": [],
   "source": [
    "\n",
    "\n",
    "# Save the filtered data to a new CSV file\n",
    "filtered_data.to_csv('filteredMixTrafficdata.csv', index=False)"
   ]
  },
  {
   "cell_type": "code",
   "execution_count": 19,
   "metadata": {},
   "outputs": [],
   "source": [
    "filtered_data.to_csv('filterednotgenMixTrafficdata.csv', index=False)"
   ]
  },
  {
   "cell_type": "code",
   "execution_count": 20,
   "metadata": {},
   "outputs": [
    {
     "name": "stdout",
     "output_type": "stream",
     "text": [
      "New CSV file with 305 randomly sampled rows has been created.\n"
     ]
    }
   ],
   "source": [
    "\n",
    "\n",
    "import pandas as pd\n",
    "\n",
    "# Load the original data into a pandas DataFrame\n",
    "data = pd.read_csv('filterednotgenMixTrafficdata.csv')\n",
    "\n",
    "# Get a random sample of 305 rows from the original data\n",
    "random_data = data.sample(n=305, random_state=42)  # Change the random_state to any desired value for different random samples\n",
    "\n",
    "# Save the sampled data with original source IPs to a new CSV file\n",
    "random_data.to_csv('your_random_data.csv', index=False)\n",
    "\n",
    "# Print a message to indicate successful creation of the new CSV file\n",
    "print(\"New CSV file with 305 randomly sampled rows has been created.\")\n"
   ]
  },
  {
   "cell_type": "code",
   "execution_count": 23,
   "metadata": {},
   "outputs": [
    {
     "name": "stdout",
     "output_type": "stream",
     "text": [
      "Two CSV files have been successfully appended and saved as filteredMixTrafficdata.csv.\n"
     ]
    },
    {
     "name": "stderr",
     "output_type": "stream",
     "text": [
      "C:\\Users\\DELL\\AppData\\Local\\Temp\\ipykernel_26712\\88698664.py:10: FutureWarning: The frame.append method is deprecated and will be removed from pandas in a future version. Use pandas.concat instead.\n",
      "  merged_df = df1.append(df2, ignore_index=True)\n"
     ]
    }
   ],
   "source": [
    "import pandas as pd\n",
    "\n",
    "# Load the first CSV file into a pandas DataFrame\n",
    "df1 = pd.read_csv('filteredMixTrafficdata.csv')\n",
    "\n",
    "# Load the second CSV file into another pandas DataFrame\n",
    "df2 = pd.read_csv('your_random_data.csv')\n",
    "\n",
    "# Append the second DataFrame to the first DataFrame\n",
    "merged_df = df1.append(df2, ignore_index=True)\n",
    "\n",
    "# Save the merged DataFrame to a new CSV file\n",
    "merged_df.to_csv('filteredMixTrafficdata.csv', index=False)\n",
    "\n",
    "# Print a message to indicate successful appending of the two CSV files\n",
    "print(\"Two CSV files have been successfully appended and saved as filteredMixTrafficdata.csv.\")"
   ]
  },
  {
   "cell_type": "code",
   "execution_count": 26,
   "metadata": {},
   "outputs": [
    {
     "data": {
      "image/png": "[encoded data removed]",
      "text/plain": [
       "<Figure size 432x288 with 1 Axes>"
      ]
     },
     "metadata": {
      "needs_background": "light"
     },
     "output_type": "display_data"
    }
   ],
   "source": [
    "\n",
    "import pandas as pd\n",
    "import matplotlib.pyplot as plt\n",
    "# Load the original data into a pandas DataFrame\n",
    "data = pd.read_csv('test_data.csv')\n",
    "grouped = data.groupby(['Source']).size().reset_index(name='Counts')\n",
    "plt.bar(grouped['Source'], grouped['Counts'])\n",
    "plt.xlabel('Source')\n",
    "plt.ylabel('Counts')\n",
    "plt.title('Graph of labeled data')\n",
    "plt.show()"
   ]
  },
  {
   "cell_type": "code",
   "execution_count": 27,
   "metadata": {},
   "outputs": [
    {
     "name": "stdout",
     "output_type": "stream",
     "text": [
      "Count of Source IPs with Label 0:\n",
      "  Source IP  Count of Label 0\n",
      "0  10.0.0.2               860\n",
      "1  10.0.0.1               265\n",
      "\n",
      "Count of Source IPs with Label 1:\n",
      "  Source IP  Count of Label 1\n",
      "0  10.0.0.5               196\n",
      "1  10.0.0.3               102\n",
      "2  10.0.0.2                76\n",
      "3  10.0.0.1                22\n",
      "4  10.0.0.4                 7\n"
     ]
    }
   ],
   "source": [
    "import pandas as pd\n",
    "\n",
    "# Load the CSV file into a DataFrame\n",
    "df = pd.read_csv('labeled_data2.csv')\n",
    "\n",
    "# Filter the rows based on the Label column value\n",
    "df_label_0 = df[df['Label'] == 0]\n",
    "df_label_1 = df[df['Label'] == 1]\n",
    "\n",
    "# Group by Source IP and count the occurrences for Label 0\n",
    "count_label_0 = df_label_0['Source'].value_counts().reset_index()\n",
    "count_label_0.columns = ['Source IP', 'Count of Label 0']\n",
    "\n",
    "# Group by Source IP and count the occurrences for Label 1\n",
    "count_label_1 = df_label_1['Source'].value_counts().reset_index()\n",
    "count_label_1.columns = ['Source IP', 'Count of Label 1']\n",
    "\n",
    "print(\"Count of Source IPs with Label 0:\")\n",
    "print(count_label_0)\n",
    "\n",
    "print(\"\\nCount of Source IPs with Label 1:\")\n",
    "print(count_label_1)\n"
   ]
  },
  {
   "cell_type": "code",
   "execution_count": 24,
   "metadata": {},
   "outputs": [
    {
     "name": "stdout",
     "output_type": "stream",
     "text": [
      "CSV file has been sorted by 'Time' column and saved successfully.\n"
     ]
    }
   ],
   "source": [
    "import pandas as pd\n",
    "\n",
    "# Load the CSV file into a DataFrame\n",
    "df = pd.read_csv('filteredMixTrafficdata.csv')\n",
    "\n",
    "# Sort the DataFrame by the 'Time' column\n",
    "df.sort_values('Time', inplace=True)\n",
    "\n",
    "# Save the sorted DataFrame to the same CSV file\n",
    "df.to_csv('filteredMixTrafficdata.csv', index=False)\n",
    "\n",
    "# Print a message to indicate successful sorting and saving\n",
    "print(\"CSV file has been sorted by 'Time' column and saved successfully.\")\n"
   ]
  },
  {
   "cell_type": "code",
   "execution_count": 25,
   "metadata": {},
   "outputs": [
    {
     "name": "stdout",
     "output_type": "stream",
     "text": [
      "Filtered CSV file has been saved successfully.\n"
     ]
    }
   ],
   "source": [
    "df = pd.read_csv('labeled_data2.csv')\n",
    "# Filter the DataFrame to include only rows where 'Label' is 1\n",
    "df_filtered = df[df['Label'] == 1]\n",
    "\n",
    "# Save the filtered DataFrame to a new CSV file\n",
    "df_filtered.to_csv('test_data.csv', index=False)\n",
    "\n",
    "# Print a message to indicate successful saving\n",
    "print(\"Filtered CSV file has been saved successfully.\")"
   ]
  },
  {
   "cell_type": "code",
   "execution_count": 18,
   "metadata": {},
   "outputs": [
    {
     "name": "stdout",
     "output_type": "stream",
     "text": [
      "Count of occurrences for source IP '10.0.0.3': 33445\n",
      "Count of occurrences for source IP '10.0.0.4': 3609\n",
      "Count of occurrences for source IP '10.0.0.5': 69510\n"
     ]
    }
   ],
   "source": [
    "filtered_data = data[~data['Source'].isin(specific_source_ips)]\n",
    "grouped = filtered_data.groupby('Source').size().reset_index(name='Counts')\n",
    "\n",
    "# Print the count for each specific source IP address\n",
    "for index, row in grouped.iterrows():\n",
    "    source_ip = row['Source']\n",
    "    count = row['Counts']\n",
    "    print(f\"Count of occurrences for source IP '{source_ip}': {count}\")"
   ]
  }
 ],
 "metadata": {
  "kernelspec": {
   "display_name": "Python 3",
   "language": "python",
   "name": "python3"
  },
  "language_info": {
   "codemirror_mode": {
    "name": "ipython",
    "version": 3
   },
   "file_extension": ".py",
   "mimetype": "text/x-python",
   "name": "python",
   "nbconvert_exporter": "python",
   "pygments_lexer": "ipython3",
   "version": "3.9.13"
  },
  "orig_nbformat": 4
 },
 "nbformat": 4,
 "nbformat_minor": 2
}
