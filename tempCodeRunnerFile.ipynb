import pandas as pd
import matplotlib.pyplot as plt
# Load the original data into a pandas DataFrame
data = pd.read_csv('test_data.csv')
grouped = data.groupby(['Source']).size().reset_index(name='Counts')
plt.bar(grouped['Source'], grouped['Counts'])
plt.xlabel('Source')
plt.ylabel('Counts')
plt.title('Graph of labeled data')
plt.show()