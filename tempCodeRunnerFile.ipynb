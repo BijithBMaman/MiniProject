import matplotlib.pyplot as plt
plt.scatter(data['Source'], data['Label'])
plt.xlabel('Source')
plt.ylabel('Label')
plt.title('Scatter plot of labeled data')
plt.show()